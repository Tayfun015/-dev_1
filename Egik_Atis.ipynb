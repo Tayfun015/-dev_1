{
 "cells": [
  {
   "cell_type": "markdown",
   "id": "08d03390",
   "metadata": {},
   "source": [
    " Question (TR) :\n",
    "        \n",
    "Eğik Atış : Başlangıç hızı (V) ve eğim açısı (θ) kullanıcı tarafından derece cinsinden girildikten sonra, eğik atışa maruz kalan bir cismin çıkacağı maksimum yüksekliği,yatayda gideceği mesafeyi (menzil) ve uçuş süresini hesaplayıp ekrana yazdıran bir program yazınız.\n",
    "\n",
    "\n",
    " Question (EN) :\n",
    "\n",
    "Oblique Throw: After the initial velocity (V) and inclination angle (θ) are entered in degrees by the user, write a program that calculates the maximum height, horizontal distance (range) and flight time of an object exposed to the oblique throw, and prints it on the screen.\n",
    "\n"
   ]
  },
  {
   "cell_type": "code",
   "execution_count": 1,
   "id": "33b5980f",
   "metadata": {},
   "outputs": [],
   "source": [
    "import math # Importing libraries\n",
    "\n",
    "# import pyinputplus as pyip >>> Better input models"
   ]
  },
  {
   "cell_type": "code",
   "execution_count": 2,
   "id": "00974d1c",
   "metadata": {},
   "outputs": [
    {
     "name": "stdout",
     "output_type": "stream",
     "text": [
      "Speed of Object: (Positive) : 15\n",
      "Angle of Object (0-360) : 15\n"
     ]
    }
   ],
   "source": [
    "# Scientific gravitational acceleration constant\n",
    "G = 9.81 \n",
    "\n",
    "# Gathering Speed Value from User\n",
    "speed_v = float(input(\"Speed of Object: (Positive) : \"))\n",
    "\n",
    "# Gathering Angle from User\n",
    "tilt_angle = float(input(\"Angle of Object (0-360) : \"))\n"
   ]
  },
  {
   "cell_type": "code",
   "execution_count": 3,
   "id": "837fb9f6",
   "metadata": {},
   "outputs": [
    {
     "name": "stdout",
     "output_type": "stream",
     "text": [
      "Flight duration: 0.791 s\n",
      "Range: 11.468 m\n",
      "Max Height: 0.768 m\n"
     ]
    }
   ],
   "source": [
    "# Converting angle to radians\n",
    "radyan = math.radians(tilt_angle)\n",
    "\n",
    "# Maximum Height ( hmax )\n",
    "H = (speed_v**2 * math.sin(radyan)**2) / (2 * G)\n",
    "\n",
    "# Range of Object\n",
    "R = (speed_v**2 * math.sin(2*radyan)) / G\n",
    "\n",
    "# Flight Duration\n",
    "T = (2 * speed_v * math.sin(radyan)) / G\n",
    "\n",
    "# Checking Model\n",
    "if T<0 or R<0 or H<0:\n",
    "    print (f\"Flight Duration cant be negative ({round(T,3)} s)\")\n",
    "else:\n",
    "    print(f\"Flight duration: {round(T,3)} s\")\n",
    "    print(f\"Range: {round(R,3)} m\")\n",
    "    print(f\"Max Height: {round(H,3)} m\")"
   ]
  }
 ],
 "metadata": {
  "kernelspec": {
   "display_name": "Python 3 (ipykernel)",
   "language": "python",
   "name": "python3"
  },
  "language_info": {
   "codemirror_mode": {
    "name": "ipython",
    "version": 3
   },
   "file_extension": ".py",
   "mimetype": "text/x-python",
   "name": "python",
   "nbconvert_exporter": "python",
   "pygments_lexer": "ipython3",
   "version": "3.9.13"
  }
 },
 "nbformat": 4,
 "nbformat_minor": 5
}
