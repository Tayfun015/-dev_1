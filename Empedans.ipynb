{
 "cells": [
  {
   "cell_type": "markdown",
   "id": "eb99341c",
   "metadata": {},
   "source": [
    "Question (TR):\n",
    "Alternatif akımla çalışan bir devrede birbirlerine seri bağlanmış bir direnç, bir kondansatör ve bir bobin bulunmaktadır. \n",
    "Kullanıcıdan voltaj değerini volt ve Hertz, direnç değerini ohm, kondansatör değerini farad ve bobin değerini henry olarak alınız. Toplam empedansı hesaplayıp ekrana yazdıran bir program yazınız \n",
    "\n",
    "Question (EN):\n",
    "\n",
    "In a circuit operating with alternating current, there is a resistor, a capacitor and a coil connected in series with each other.\n",
    "Get the voltage value in volts and Hertz, the resistance value in ohms, the capacitor value in farad and the coil value in henry from the user. Write a program that calculates the total impedance and prints it to the screen.\n",
    "\n",
    "\n",
    "Referance:\n",
    "https://www.youtube.com/watch?v=TnrIzEqSIps\n"
   ]
  },
  {
   "cell_type": "code",
   "execution_count": 3,
   "id": "6b50f94a",
   "metadata": {},
   "outputs": [],
   "source": [
    "# Importing Libraries\n",
    "import math\n",
    "# import pyinputplus as pyip >>> Better input models (Highly Recommended)"
   ]
  },
  {
   "cell_type": "code",
   "execution_count": 4,
   "id": "21a70966",
   "metadata": {},
   "outputs": [
    {
     "name": "stdout",
     "output_type": "stream",
     "text": [
      "Enter the voltage value in volts: 10\n",
      "Enter the voltage frequency in Hertz: 20\n",
      "Enter the resistance value in ohms: 30\n",
      "Enter the capacitance value in farads: 40\n",
      "Enter the inductance value in henrys: 50\n",
      "The total impedance of the circuit is 6283.26 ohms.\n"
     ]
    }
   ],
   "source": [
    "# Get user inputs\n",
    "voltage = float(input(\"Enter the voltage value in volts: \"))\n",
    "frequency = float(input(\"Enter the voltage frequency in Hertz: \"))\n",
    "resistance = float(input(\"Enter the resistance value in ohms: \"))\n",
    "capacitance = float(input(\"Enter the capacitance value in farads: \"))\n",
    "inductance = float(input(\"Enter the inductance value in henrys: \"))\n",
    "\n",
    "# Calculate the inductive and capacitive reactance\n",
    "xln = 2 * math.pi * frequency * inductance\n",
    "xcap = 1 / (2 * math.pi * frequency * capacitance)\n",
    "\n",
    "# Calculating the total impedance\n",
    "z = math.sqrt(resistance ** 2 + (xln - xcap) ** 2)\n",
    "\n",
    "# Print the result\n",
    "print(f\"The total impedance of the circuit is {z:.3f} ohms.\")"
   ]
  }
 ],
 "metadata": {
  "kernelspec": {
   "display_name": "Python 3 (ipykernel)",
   "language": "python",
   "name": "python3"
  },
  "language_info": {
   "codemirror_mode": {
    "name": "ipython",
    "version": 3
   },
   "file_extension": ".py",
   "mimetype": "text/x-python",
   "name": "python",
   "nbconvert_exporter": "python",
   "pygments_lexer": "ipython3",
   "version": "3.9.13"
  }
 },
 "nbformat": 4,
 "nbformat_minor": 5
}
